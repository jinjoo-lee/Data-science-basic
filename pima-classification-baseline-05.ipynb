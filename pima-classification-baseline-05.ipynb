{
 "cells": [
  {
   "cell_type": "markdown",
   "metadata": {},
   "source": [
    "# 데이터셋 출처\n",
    "* https://www.kaggle.com/uciml/pima-indians-diabetes-database"
   ]
  },
  {
   "cell_type": "markdown",
   "metadata": {},
   "source": [
    "## 데이터 구성\n",
    "* Pregnancies : 임신횟수\n",
    "* Glucose : 2시간 동안의경구 포도당 내성 검사에서 혈장 포도당 농도\n",
    "* BloodPressure : 이완기 혈압 (mm Hg)\n",
    "* SkinThickness : 삼두근 피부 주름 두께 (mm), 체지방을 추정하는데 사용되는 값\n",
    "* Insulin : 2시간 혈청 인슐린(mu U / ml)\n",
    "* BMI : 체질량 지수(체중kg / 키(m)^2)\n",
    "* DiabetesPedigreeFunction : 당뇨병 혈통 기능\n",
    "* Age : 나이\n",
    "* Outcome : 768개중에 268개의 결과 클래스 변수(0 또는 1)는 1이고 나머지는 0입니다."
   ]
  },
  {
   "cell_type": "markdown",
   "metadata": {},
   "source": [
    "# 필요한 라이브러리 로드"
   ]
  },
  {
   "cell_type": "code",
   "execution_count": 1,
   "metadata": {},
   "outputs": [],
   "source": [
    "import pandas as pd\n",
    "import numpy as np\n",
    "import seaborn as sns\n",
    "import matplotlib.pyplot as plt\n",
    "\n",
    "%matplotlib inline"
   ]
  },
  {
   "cell_type": "markdown",
   "metadata": {},
   "source": [
    "# 데이터셋 로드"
   ]
  },
  {
   "cell_type": "code",
   "execution_count": 2,
   "metadata": {},
   "outputs": [
    {
     "data": {
      "text/plain": [
       "(768, 16)"
      ]
     },
     "execution_count": 2,
     "metadata": {},
     "output_type": "execute_result"
    }
   ],
   "source": [
    "df = pd.read_csv(\"data/diabetes_feature.csv\")\n",
    "df.shape"
   ]
  },
  {
   "cell_type": "code",
   "execution_count": 3,
   "metadata": {},
   "outputs": [
    {
     "data": {
      "text/html": [
       "<div>\n",
       "<style scoped>\n",
       "    .dataframe tbody tr th:only-of-type {\n",
       "        vertical-align: middle;\n",
       "    }\n",
       "\n",
       "    .dataframe tbody tr th {\n",
       "        vertical-align: top;\n",
       "    }\n",
       "\n",
       "    .dataframe thead th {\n",
       "        text-align: right;\n",
       "    }\n",
       "</style>\n",
       "<table border=\"1\" class=\"dataframe\">\n",
       "  <thead>\n",
       "    <tr style=\"text-align: right;\">\n",
       "      <th></th>\n",
       "      <th>Pregnancies</th>\n",
       "      <th>Glucose</th>\n",
       "      <th>BloodPressure</th>\n",
       "      <th>SkinThickness</th>\n",
       "      <th>Insulin</th>\n",
       "      <th>BMI</th>\n",
       "      <th>DiabetesPedigreeFunction</th>\n",
       "      <th>Age</th>\n",
       "      <th>Outcome</th>\n",
       "      <th>Pregnancies_high</th>\n",
       "      <th>Age_low</th>\n",
       "      <th>Age_middle</th>\n",
       "      <th>Age_high</th>\n",
       "      <th>Insulin_nan</th>\n",
       "      <th>Insulin_log</th>\n",
       "      <th>low_glu_insulin</th>\n",
       "    </tr>\n",
       "  </thead>\n",
       "  <tbody>\n",
       "    <tr>\n",
       "      <th>0</th>\n",
       "      <td>6</td>\n",
       "      <td>0.848324</td>\n",
       "      <td>72</td>\n",
       "      <td>35</td>\n",
       "      <td>0</td>\n",
       "      <td>33.6</td>\n",
       "      <td>0.468492</td>\n",
       "      <td>50</td>\n",
       "      <td>1</td>\n",
       "      <td>False</td>\n",
       "      <td>False</td>\n",
       "      <td>True</td>\n",
       "      <td>False</td>\n",
       "      <td>169.5</td>\n",
       "      <td>5.138735</td>\n",
       "      <td>False</td>\n",
       "    </tr>\n",
       "    <tr>\n",
       "      <th>1</th>\n",
       "      <td>1</td>\n",
       "      <td>-1.123396</td>\n",
       "      <td>66</td>\n",
       "      <td>29</td>\n",
       "      <td>0</td>\n",
       "      <td>26.6</td>\n",
       "      <td>-0.365061</td>\n",
       "      <td>31</td>\n",
       "      <td>0</td>\n",
       "      <td>False</td>\n",
       "      <td>False</td>\n",
       "      <td>True</td>\n",
       "      <td>False</td>\n",
       "      <td>102.5</td>\n",
       "      <td>4.639572</td>\n",
       "      <td>True</td>\n",
       "    </tr>\n",
       "    <tr>\n",
       "      <th>2</th>\n",
       "      <td>8</td>\n",
       "      <td>1.943724</td>\n",
       "      <td>64</td>\n",
       "      <td>0</td>\n",
       "      <td>0</td>\n",
       "      <td>23.3</td>\n",
       "      <td>0.604397</td>\n",
       "      <td>32</td>\n",
       "      <td>1</td>\n",
       "      <td>True</td>\n",
       "      <td>False</td>\n",
       "      <td>True</td>\n",
       "      <td>False</td>\n",
       "      <td>169.5</td>\n",
       "      <td>5.138735</td>\n",
       "      <td>False</td>\n",
       "    </tr>\n",
       "    <tr>\n",
       "      <th>3</th>\n",
       "      <td>1</td>\n",
       "      <td>-0.998208</td>\n",
       "      <td>66</td>\n",
       "      <td>23</td>\n",
       "      <td>94</td>\n",
       "      <td>28.1</td>\n",
       "      <td>-0.920763</td>\n",
       "      <td>21</td>\n",
       "      <td>0</td>\n",
       "      <td>False</td>\n",
       "      <td>True</td>\n",
       "      <td>False</td>\n",
       "      <td>False</td>\n",
       "      <td>94.0</td>\n",
       "      <td>4.553877</td>\n",
       "      <td>True</td>\n",
       "    </tr>\n",
       "    <tr>\n",
       "      <th>4</th>\n",
       "      <td>0</td>\n",
       "      <td>0.504055</td>\n",
       "      <td>40</td>\n",
       "      <td>35</td>\n",
       "      <td>168</td>\n",
       "      <td>43.1</td>\n",
       "      <td>5.484909</td>\n",
       "      <td>33</td>\n",
       "      <td>1</td>\n",
       "      <td>False</td>\n",
       "      <td>False</td>\n",
       "      <td>True</td>\n",
       "      <td>False</td>\n",
       "      <td>168.0</td>\n",
       "      <td>5.129899</td>\n",
       "      <td>False</td>\n",
       "    </tr>\n",
       "  </tbody>\n",
       "</table>\n",
       "</div>"
      ],
      "text/plain": [
       "   Pregnancies   Glucose  BloodPressure  SkinThickness  Insulin   BMI  \\\n",
       "0            6  0.848324             72             35        0  33.6   \n",
       "1            1 -1.123396             66             29        0  26.6   \n",
       "2            8  1.943724             64              0        0  23.3   \n",
       "3            1 -0.998208             66             23       94  28.1   \n",
       "4            0  0.504055             40             35      168  43.1   \n",
       "\n",
       "   DiabetesPedigreeFunction  Age  Outcome  Pregnancies_high  Age_low  \\\n",
       "0                  0.468492   50        1             False    False   \n",
       "1                 -0.365061   31        0             False    False   \n",
       "2                  0.604397   32        1              True    False   \n",
       "3                 -0.920763   21        0             False     True   \n",
       "4                  5.484909   33        1             False    False   \n",
       "\n",
       "   Age_middle  Age_high  Insulin_nan  Insulin_log  low_glu_insulin  \n",
       "0        True     False        169.5     5.138735            False  \n",
       "1        True     False        102.5     4.639572             True  \n",
       "2        True     False        169.5     5.138735            False  \n",
       "3       False     False         94.0     4.553877             True  \n",
       "4        True     False        168.0     5.129899            False  "
      ]
     },
     "execution_count": 3,
     "metadata": {},
     "output_type": "execute_result"
    }
   ],
   "source": [
    "# 데이터셋을 미리보기\n",
    "\n",
    "df.head()"
   ]
  },
  {
   "cell_type": "markdown",
   "metadata": {},
   "source": [
    "# 학습과 예측에 사용할 데이터셋 만들기"
   ]
  },
  {
   "cell_type": "code",
   "execution_count": 4,
   "metadata": {},
   "outputs": [
    {
     "data": {
      "text/plain": [
       "Index(['Pregnancies', 'Glucose', 'BloodPressure', 'SkinThickness', 'Insulin',\n",
       "       'BMI', 'DiabetesPedigreeFunction', 'Age', 'Outcome', 'Pregnancies_high',\n",
       "       'Age_low', 'Age_middle', 'Age_high', 'Insulin_nan', 'Insulin_log',\n",
       "       'low_glu_insulin'],\n",
       "      dtype='object')"
      ]
     },
     "execution_count": 4,
     "metadata": {},
     "output_type": "execute_result"
    }
   ],
   "source": [
    "df.columns"
   ]
  },
  {
   "cell_type": "code",
   "execution_count": 5,
   "metadata": {},
   "outputs": [
    {
     "data": {
      "text/plain": [
       "(768, 9)"
      ]
     },
     "execution_count": 5,
     "metadata": {},
     "output_type": "execute_result"
    }
   ],
   "source": [
    "X = df[['Glucose', 'BloodPressure', 'SkinThickness',\n",
    "    'BMI', 'DiabetesPedigreeFunction', 'Age', 'Pregnancies_high',\n",
    "    'Insulin_nan', 'low_glu_insulin']]\n",
    "X.shape"
   ]
  },
  {
   "cell_type": "code",
   "execution_count": 6,
   "metadata": {},
   "outputs": [
    {
     "data": {
      "text/plain": [
       "(768,)"
      ]
     },
     "execution_count": 6,
     "metadata": {},
     "output_type": "execute_result"
    }
   ],
   "source": [
    "y = df[\"Outcome\"]\n",
    "y.shape"
   ]
  },
  {
   "cell_type": "code",
   "execution_count": 7,
   "metadata": {},
   "outputs": [],
   "source": [
    "# 사이킷런에서 제공하는 model_selection 의 train_test_split 으로 만들기\n",
    "\n",
    "from sklearn.model_selection import train_test_split\n",
    "\n",
    "X_train, X_test, y_train, y_test = train_test_split(\n",
    "     X, y, test_size=0.2, random_state=42)"
   ]
  },
  {
   "cell_type": "code",
   "execution_count": 8,
   "metadata": {},
   "outputs": [
    {
     "data": {
      "text/plain": [
       "((614, 9), (614,))"
      ]
     },
     "execution_count": 8,
     "metadata": {},
     "output_type": "execute_result"
    }
   ],
   "source": [
    "# train 세트의 문제와 정답의 데이터 수 확인\n",
    "\n",
    "X_train.shape, y_train.shape"
   ]
  },
  {
   "cell_type": "code",
   "execution_count": 9,
   "metadata": {},
   "outputs": [
    {
     "data": {
      "text/plain": [
       "((154, 9), (154,))"
      ]
     },
     "execution_count": 9,
     "metadata": {},
     "output_type": "execute_result"
    }
   ],
   "source": [
    "# test 세트의 문제와 정답의 데이터 수 확인\n",
    "\n",
    "X_test.shape, y_test.shape"
   ]
  },
  {
   "cell_type": "markdown",
   "metadata": {},
   "source": [
    "# 여러개의 알고리즘을 사용해서 비교하기"
   ]
  },
  {
   "cell_type": "code",
   "execution_count": 27,
   "metadata": {
    "scrolled": false
   },
   "outputs": [
    {
     "data": {
      "text/plain": [
       "[DecisionTreeClassifier(random_state=42),\n",
       " RandomForestClassifier(random_state=42),\n",
       " GradientBoostingClassifier(random_state=42)]"
      ]
     },
     "execution_count": 27,
     "metadata": {},
     "output_type": "execute_result"
    }
   ],
   "source": [
    "from sklearn.tree import DecisionTreeClassifier\n",
    "from sklearn.ensemble import RandomForestClassifier, GradientBoostingClassifier\n",
    "\n",
    "\n",
    "estimators = [DecisionTreeClassifier(random_state=42), \n",
    "            RandomForestClassifier(random_state=42),\n",
    "            GradientBoostingClassifier(random_state=42)]\n",
    "estimators"
   ]
  },
  {
   "cell_type": "code",
   "execution_count": 17,
   "metadata": {},
   "outputs": [
    {
     "data": {
      "text/plain": [
       "array([10,  7,  6, 14,  3, 15, 17, 17, 14,  9])"
      ]
     },
     "execution_count": 17,
     "metadata": {},
     "output_type": "execute_result"
    }
   ],
   "source": [
    "max_depth = np.random.randint(2, 20, 10)\n",
    "max_depth"
   ]
  },
  {
   "cell_type": "code",
   "execution_count": 19,
   "metadata": {},
   "outputs": [
    {
     "data": {
      "text/plain": [
       "array([0.43120078, 0.5696988 , 0.96626425, 0.49701398, 0.79847271,\n",
       "       0.78113764, 0.76324754, 0.53615632, 0.88578556, 0.93483355])"
      ]
     },
     "execution_count": 19,
     "metadata": {},
     "output_type": "execute_result"
    }
   ],
   "source": [
    "max_features = np.random.uniform(0.3, 1.0, 10)\n",
    "max_features"
   ]
  },
  {
   "cell_type": "code",
   "execution_count": 32,
   "metadata": {},
   "outputs": [
    {
     "data": {
      "text/plain": [
       "[['DecisionTreeClassifier'],\n",
       " ['RandomForestClassifier'],\n",
       " ['GradientBoostingClassifier']]"
      ]
     },
     "execution_count": 32,
     "metadata": {},
     "output_type": "execute_result"
    }
   ],
   "source": [
    "results = []\n",
    "for estimator in estimators:\n",
    "    result = []\n",
    "    result.append(estimator.__class__.__name__)\n",
    "    results.append(result)\n",
    "results"
   ]
  },
  {
   "cell_type": "code",
   "execution_count": 42,
   "metadata": {},
   "outputs": [
    {
     "name": "stdout",
     "output_type": "stream",
     "text": [
      "Fitting 5 folds for each of 100 candidates, totalling 500 fits\n"
     ]
    },
    {
     "name": "stderr",
     "output_type": "stream",
     "text": [
      "[Parallel(n_jobs=-1)]: Using backend LokyBackend with 4 concurrent workers.\n",
      "[Parallel(n_jobs=-1)]: Done 128 tasks      | elapsed:    1.4s\n",
      "[Parallel(n_jobs=-1)]: Done 500 out of 500 | elapsed:    6.7s finished\n",
      "[Parallel(n_jobs=-1)]: Using backend LokyBackend with 4 concurrent workers.\n"
     ]
    },
    {
     "name": "stdout",
     "output_type": "stream",
     "text": [
      "Fitting 5 folds for each of 100 candidates, totalling 500 fits\n"
     ]
    },
    {
     "name": "stderr",
     "output_type": "stream",
     "text": [
      "[Parallel(n_jobs=-1)]: Done  33 tasks      | elapsed:   10.2s\n",
      "[Parallel(n_jobs=-1)]: Done 154 tasks      | elapsed:   47.7s\n",
      "[Parallel(n_jobs=-1)]: Done 357 tasks      | elapsed:  1.8min\n",
      "[Parallel(n_jobs=-1)]: Done 500 out of 500 | elapsed:  2.6min finished\n"
     ]
    },
    {
     "name": "stdout",
     "output_type": "stream",
     "text": [
      "Fitting 5 folds for each of 100 candidates, totalling 500 fits\n"
     ]
    },
    {
     "name": "stderr",
     "output_type": "stream",
     "text": [
      "[Parallel(n_jobs=-1)]: Using backend LokyBackend with 4 concurrent workers.\n",
      "[Parallel(n_jobs=-1)]: Done  33 tasks      | elapsed:   14.9s\n",
      "[Parallel(n_jobs=-1)]: Done 154 tasks      | elapsed:  1.4min\n",
      "[Parallel(n_jobs=-1)]: Done 357 tasks      | elapsed:  3.2min\n",
      "[Parallel(n_jobs=-1)]: Done 500 out of 500 | elapsed:  4.4min finished\n"
     ]
    }
   ],
   "source": [
    "from sklearn.model_selection import RandomizedSearchCV\n",
    "\n",
    "max_depth = np.random.randint(2, 20, 10)\n",
    "max_features = np.random.uniform(0.3, 1.0, 10)\n",
    "\n",
    "param_distributions = {\"max_depth\": max_depth, \n",
    "                       \"max_features\": max_features}\n",
    "\n",
    "results = []\n",
    "for estimator in estimators:\n",
    "    result = []\n",
    "    if estimator.__class__.__name__ != 'DecisionTreeClassifier':\n",
    "        param_distributions[\"n_estimators\"] = np.random.randint(100, 200, 10)\n",
    "        \n",
    "    clf = RandomizedSearchCV(estimator, \n",
    "                       param_distributions, \n",
    "                       n_iter=100, \n",
    "                       scoring=\"accuracy\", \n",
    "                       n_jobs=-1, \n",
    "                       cv=5, \n",
    "                       verbose=2\n",
    "                      )\n",
    "    clf.fit(X_train, y_train)\n",
    "    result.append(estimator.__class__.__name__)\n",
    "    result.append(clf.best_params_)\n",
    "    result.append(clf.best_score_)\n",
    "    result.append(clf.score(X_test, y_test))\n",
    "    result.append(clf.cv_results_)\n",
    "    results.append(result)"
   ]
  },
  {
   "cell_type": "code",
   "execution_count": 44,
   "metadata": {},
   "outputs": [],
   "source": [
    "df = pd.DataFrame(results, columns=[\"estimator\", \"best_params\", \"train_score\", \"test_score\", \"cv_result\"])"
   ]
  },
  {
   "cell_type": "code",
   "execution_count": 51,
   "metadata": {},
   "outputs": [
    {
     "data": {
      "text/html": [
       "<div>\n",
       "<style scoped>\n",
       "    .dataframe tbody tr th:only-of-type {\n",
       "        vertical-align: middle;\n",
       "    }\n",
       "\n",
       "    .dataframe tbody tr th {\n",
       "        vertical-align: top;\n",
       "    }\n",
       "\n",
       "    .dataframe thead th {\n",
       "        text-align: right;\n",
       "    }\n",
       "</style>\n",
       "<table border=\"1\" class=\"dataframe\">\n",
       "  <thead>\n",
       "    <tr style=\"text-align: right;\">\n",
       "      <th></th>\n",
       "      <th>mean_fit_time</th>\n",
       "      <th>std_fit_time</th>\n",
       "      <th>mean_score_time</th>\n",
       "      <th>std_score_time</th>\n",
       "      <th>param_n_estimators</th>\n",
       "      <th>param_max_features</th>\n",
       "      <th>param_max_depth</th>\n",
       "      <th>params</th>\n",
       "      <th>split0_test_score</th>\n",
       "      <th>split1_test_score</th>\n",
       "      <th>split2_test_score</th>\n",
       "      <th>split3_test_score</th>\n",
       "      <th>split4_test_score</th>\n",
       "      <th>mean_test_score</th>\n",
       "      <th>std_test_score</th>\n",
       "      <th>rank_test_score</th>\n",
       "    </tr>\n",
       "  </thead>\n",
       "  <tbody>\n",
       "    <tr>\n",
       "      <th>57</th>\n",
       "      <td>1.618671</td>\n",
       "      <td>0.060197</td>\n",
       "      <td>0.094347</td>\n",
       "      <td>0.013148</td>\n",
       "      <td>198</td>\n",
       "      <td>0.768472</td>\n",
       "      <td>18</td>\n",
       "      <td>{'n_estimators': 198, 'max_features': 0.768472...</td>\n",
       "      <td>0.869919</td>\n",
       "      <td>0.934959</td>\n",
       "      <td>0.861789</td>\n",
       "      <td>0.910569</td>\n",
       "      <td>0.950820</td>\n",
       "      <td>0.905611</td>\n",
       "      <td>0.034997</td>\n",
       "      <td>1</td>\n",
       "    </tr>\n",
       "    <tr>\n",
       "      <th>15</th>\n",
       "      <td>1.530722</td>\n",
       "      <td>0.101524</td>\n",
       "      <td>0.088749</td>\n",
       "      <td>0.012679</td>\n",
       "      <td>198</td>\n",
       "      <td>0.815675</td>\n",
       "      <td>7</td>\n",
       "      <td>{'n_estimators': 198, 'max_features': 0.815674...</td>\n",
       "      <td>0.878049</td>\n",
       "      <td>0.943089</td>\n",
       "      <td>0.869919</td>\n",
       "      <td>0.902439</td>\n",
       "      <td>0.934426</td>\n",
       "      <td>0.905584</td>\n",
       "      <td>0.029253</td>\n",
       "      <td>2</td>\n",
       "    </tr>\n",
       "    <tr>\n",
       "      <th>85</th>\n",
       "      <td>1.145743</td>\n",
       "      <td>0.027873</td>\n",
       "      <td>0.056568</td>\n",
       "      <td>0.002726</td>\n",
       "      <td>198</td>\n",
       "      <td>0.814095</td>\n",
       "      <td>7</td>\n",
       "      <td>{'n_estimators': 198, 'max_features': 0.814094...</td>\n",
       "      <td>0.878049</td>\n",
       "      <td>0.943089</td>\n",
       "      <td>0.869919</td>\n",
       "      <td>0.902439</td>\n",
       "      <td>0.934426</td>\n",
       "      <td>0.905584</td>\n",
       "      <td>0.029253</td>\n",
       "      <td>2</td>\n",
       "    </tr>\n",
       "    <tr>\n",
       "      <th>39</th>\n",
       "      <td>1.348626</td>\n",
       "      <td>0.043268</td>\n",
       "      <td>0.082353</td>\n",
       "      <td>0.023264</td>\n",
       "      <td>172</td>\n",
       "      <td>0.790221</td>\n",
       "      <td>7</td>\n",
       "      <td>{'n_estimators': 172, 'max_features': 0.790220...</td>\n",
       "      <td>0.886179</td>\n",
       "      <td>0.951220</td>\n",
       "      <td>0.869919</td>\n",
       "      <td>0.886179</td>\n",
       "      <td>0.934426</td>\n",
       "      <td>0.905584</td>\n",
       "      <td>0.031431</td>\n",
       "      <td>2</td>\n",
       "    </tr>\n",
       "    <tr>\n",
       "      <th>48</th>\n",
       "      <td>1.168529</td>\n",
       "      <td>0.050778</td>\n",
       "      <td>0.068761</td>\n",
       "      <td>0.016033</td>\n",
       "      <td>175</td>\n",
       "      <td>0.580672</td>\n",
       "      <td>14</td>\n",
       "      <td>{'n_estimators': 175, 'max_features': 0.580671...</td>\n",
       "      <td>0.878049</td>\n",
       "      <td>0.934959</td>\n",
       "      <td>0.853659</td>\n",
       "      <td>0.902439</td>\n",
       "      <td>0.950820</td>\n",
       "      <td>0.903985</td>\n",
       "      <td>0.035667</td>\n",
       "      <td>5</td>\n",
       "    </tr>\n",
       "    <tr>\n",
       "      <th>...</th>\n",
       "      <td>...</td>\n",
       "      <td>...</td>\n",
       "      <td>...</td>\n",
       "      <td>...</td>\n",
       "      <td>...</td>\n",
       "      <td>...</td>\n",
       "      <td>...</td>\n",
       "      <td>...</td>\n",
       "      <td>...</td>\n",
       "      <td>...</td>\n",
       "      <td>...</td>\n",
       "      <td>...</td>\n",
       "      <td>...</td>\n",
       "      <td>...</td>\n",
       "      <td>...</td>\n",
       "      <td>...</td>\n",
       "    </tr>\n",
       "    <tr>\n",
       "      <th>1</th>\n",
       "      <td>0.903882</td>\n",
       "      <td>0.057285</td>\n",
       "      <td>0.050971</td>\n",
       "      <td>0.004145</td>\n",
       "      <td>168</td>\n",
       "      <td>0.768472</td>\n",
       "      <td>2</td>\n",
       "      <td>{'n_estimators': 168, 'max_features': 0.768472...</td>\n",
       "      <td>0.796748</td>\n",
       "      <td>0.869919</td>\n",
       "      <td>0.845528</td>\n",
       "      <td>0.804878</td>\n",
       "      <td>0.934426</td>\n",
       "      <td>0.850300</td>\n",
       "      <td>0.049831</td>\n",
       "      <td>96</td>\n",
       "    </tr>\n",
       "    <tr>\n",
       "      <th>34</th>\n",
       "      <td>1.252480</td>\n",
       "      <td>0.036154</td>\n",
       "      <td>0.073158</td>\n",
       "      <td>0.009902</td>\n",
       "      <td>172</td>\n",
       "      <td>0.814095</td>\n",
       "      <td>2</td>\n",
       "      <td>{'n_estimators': 172, 'max_features': 0.814094...</td>\n",
       "      <td>0.788618</td>\n",
       "      <td>0.869919</td>\n",
       "      <td>0.837398</td>\n",
       "      <td>0.804878</td>\n",
       "      <td>0.942623</td>\n",
       "      <td>0.848687</td>\n",
       "      <td>0.054644</td>\n",
       "      <td>97</td>\n",
       "    </tr>\n",
       "    <tr>\n",
       "      <th>37</th>\n",
       "      <td>0.945658</td>\n",
       "      <td>0.064966</td>\n",
       "      <td>0.074357</td>\n",
       "      <td>0.008517</td>\n",
       "      <td>172</td>\n",
       "      <td>0.815675</td>\n",
       "      <td>2</td>\n",
       "      <td>{'n_estimators': 172, 'max_features': 0.815674...</td>\n",
       "      <td>0.788618</td>\n",
       "      <td>0.869919</td>\n",
       "      <td>0.837398</td>\n",
       "      <td>0.804878</td>\n",
       "      <td>0.942623</td>\n",
       "      <td>0.848687</td>\n",
       "      <td>0.054644</td>\n",
       "      <td>97</td>\n",
       "    </tr>\n",
       "    <tr>\n",
       "      <th>17</th>\n",
       "      <td>1.176325</td>\n",
       "      <td>0.115161</td>\n",
       "      <td>0.062964</td>\n",
       "      <td>0.020560</td>\n",
       "      <td>168</td>\n",
       "      <td>0.790221</td>\n",
       "      <td>2</td>\n",
       "      <td>{'n_estimators': 168, 'max_features': 0.790220...</td>\n",
       "      <td>0.788618</td>\n",
       "      <td>0.869919</td>\n",
       "      <td>0.837398</td>\n",
       "      <td>0.804878</td>\n",
       "      <td>0.942623</td>\n",
       "      <td>0.848687</td>\n",
       "      <td>0.054644</td>\n",
       "      <td>97</td>\n",
       "    </tr>\n",
       "    <tr>\n",
       "      <th>68</th>\n",
       "      <td>0.726583</td>\n",
       "      <td>0.061795</td>\n",
       "      <td>0.051370</td>\n",
       "      <td>0.015413</td>\n",
       "      <td>134</td>\n",
       "      <td>0.815675</td>\n",
       "      <td>2</td>\n",
       "      <td>{'n_estimators': 134, 'max_features': 0.815674...</td>\n",
       "      <td>0.788618</td>\n",
       "      <td>0.869919</td>\n",
       "      <td>0.837398</td>\n",
       "      <td>0.804878</td>\n",
       "      <td>0.942623</td>\n",
       "      <td>0.848687</td>\n",
       "      <td>0.054644</td>\n",
       "      <td>97</td>\n",
       "    </tr>\n",
       "  </tbody>\n",
       "</table>\n",
       "<p>100 rows × 16 columns</p>\n",
       "</div>"
      ],
      "text/plain": [
       "    mean_fit_time  std_fit_time  mean_score_time  std_score_time  \\\n",
       "57       1.618671      0.060197         0.094347        0.013148   \n",
       "15       1.530722      0.101524         0.088749        0.012679   \n",
       "85       1.145743      0.027873         0.056568        0.002726   \n",
       "39       1.348626      0.043268         0.082353        0.023264   \n",
       "48       1.168529      0.050778         0.068761        0.016033   \n",
       "..            ...           ...              ...             ...   \n",
       "1        0.903882      0.057285         0.050971        0.004145   \n",
       "34       1.252480      0.036154         0.073158        0.009902   \n",
       "37       0.945658      0.064966         0.074357        0.008517   \n",
       "17       1.176325      0.115161         0.062964        0.020560   \n",
       "68       0.726583      0.061795         0.051370        0.015413   \n",
       "\n",
       "   param_n_estimators param_max_features param_max_depth  \\\n",
       "57                198           0.768472              18   \n",
       "15                198           0.815675               7   \n",
       "85                198           0.814095               7   \n",
       "39                172           0.790221               7   \n",
       "48                175           0.580672              14   \n",
       "..                ...                ...             ...   \n",
       "1                 168           0.768472               2   \n",
       "34                172           0.814095               2   \n",
       "37                172           0.815675               2   \n",
       "17                168           0.790221               2   \n",
       "68                134           0.815675               2   \n",
       "\n",
       "                                               params  split0_test_score  \\\n",
       "57  {'n_estimators': 198, 'max_features': 0.768472...           0.869919   \n",
       "15  {'n_estimators': 198, 'max_features': 0.815674...           0.878049   \n",
       "85  {'n_estimators': 198, 'max_features': 0.814094...           0.878049   \n",
       "39  {'n_estimators': 172, 'max_features': 0.790220...           0.886179   \n",
       "48  {'n_estimators': 175, 'max_features': 0.580671...           0.878049   \n",
       "..                                                ...                ...   \n",
       "1   {'n_estimators': 168, 'max_features': 0.768472...           0.796748   \n",
       "34  {'n_estimators': 172, 'max_features': 0.814094...           0.788618   \n",
       "37  {'n_estimators': 172, 'max_features': 0.815674...           0.788618   \n",
       "17  {'n_estimators': 168, 'max_features': 0.790220...           0.788618   \n",
       "68  {'n_estimators': 134, 'max_features': 0.815674...           0.788618   \n",
       "\n",
       "    split1_test_score  split2_test_score  split3_test_score  \\\n",
       "57           0.934959           0.861789           0.910569   \n",
       "15           0.943089           0.869919           0.902439   \n",
       "85           0.943089           0.869919           0.902439   \n",
       "39           0.951220           0.869919           0.886179   \n",
       "48           0.934959           0.853659           0.902439   \n",
       "..                ...                ...                ...   \n",
       "1            0.869919           0.845528           0.804878   \n",
       "34           0.869919           0.837398           0.804878   \n",
       "37           0.869919           0.837398           0.804878   \n",
       "17           0.869919           0.837398           0.804878   \n",
       "68           0.869919           0.837398           0.804878   \n",
       "\n",
       "    split4_test_score  mean_test_score  std_test_score  rank_test_score  \n",
       "57           0.950820         0.905611        0.034997                1  \n",
       "15           0.934426         0.905584        0.029253                2  \n",
       "85           0.934426         0.905584        0.029253                2  \n",
       "39           0.934426         0.905584        0.031431                2  \n",
       "48           0.950820         0.903985        0.035667                5  \n",
       "..                ...              ...             ...              ...  \n",
       "1            0.934426         0.850300        0.049831               96  \n",
       "34           0.942623         0.848687        0.054644               97  \n",
       "37           0.942623         0.848687        0.054644               97  \n",
       "17           0.942623         0.848687        0.054644               97  \n",
       "68           0.942623         0.848687        0.054644               97  \n",
       "\n",
       "[100 rows x 16 columns]"
      ]
     },
     "execution_count": 51,
     "metadata": {},
     "output_type": "execute_result"
    }
   ],
   "source": [
    "pd.DataFrame(df.loc[1, \"cv_result\"]).sort_values(by=\"rank_test_score\")"
   ]
  },
  {
   "cell_type": "code",
   "execution_count": null,
   "metadata": {},
   "outputs": [],
   "source": [
    "\n"
   ]
  }
 ],
 "metadata": {
  "kernelspec": {
   "display_name": "Python 3",
   "language": "python",
   "name": "python3"
  },
  "language_info": {
   "codemirror_mode": {
    "name": "ipython",
    "version": 3
   },
   "file_extension": ".py",
   "mimetype": "text/x-python",
   "name": "python",
   "nbconvert_exporter": "python",
   "pygments_lexer": "ipython3",
   "version": "3.8.5"
  },
  "toc": {
   "base_numbering": 1,
   "nav_menu": {},
   "number_sections": true,
   "sideBar": true,
   "skip_h1_title": false,
   "title_cell": "Table of Contents",
   "title_sidebar": "Contents",
   "toc_cell": false,
   "toc_position": {
    "height": "calc(100% - 180px)",
    "left": "10px",
    "top": "150px",
    "width": "341.333px"
   },
   "toc_section_display": true,
   "toc_window_display": false
  }
 },
 "nbformat": 4,
 "nbformat_minor": 4
}
